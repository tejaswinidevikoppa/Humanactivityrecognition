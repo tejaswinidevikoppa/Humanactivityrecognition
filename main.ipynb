{
 "cells": [
  {
   "cell_type": "code",
   "execution_count": 1,
   "metadata": {},
   "outputs": [],
   "source": [
    "import pandas as pd\n",
    "import numpy as np\n",
    "from sklearn.preprocessing import LabelEncoder\n",
    "from tensorflow.keras.utils import to_categorical"
   ]
  },
  {
   "cell_type": "code",
   "execution_count": 2,
   "metadata": {},
   "outputs": [],
   "source": [
    "# Load the dataset\n",
    "def load_data():\n",
    "    X_train = pd.read_csv('HADDataset/train/X_train.txt', delim_whitespace=True, header=None)\n",
    "    y_train = pd.read_csv('HADDataset/train/y_train.txt', delim_whitespace=True, header=None)\n",
    "    X_test = pd.read_csv('HADDataset/test/X_test.txt', delim_whitespace=True, header=None)\n",
    "    y_test = pd.read_csv('HADDataset/test/y_test.txt', delim_whitespace=True, header=None)\n",
    "\n",
    "    return (X_train, y_train), (X_test, y_test)"
   ]
  },
  {
   "cell_type": "code",
   "execution_count": 3,
   "metadata": {},
   "outputs": [],
   "source": [
    "# Preprocess the data\n",
    "def preprocess_data(X, y):\n",
    "    X = (X - X.mean()) / X.std()  # Normalize the data\n",
    "    le = LabelEncoder()\n",
    "    y_encoded = le.fit_transform(y.values.ravel())  # Encode labels\n",
    "    y_categorical = to_categorical(y_encoded)  # One-hot encode labels\n",
    "    return X, y_categorical\n",
    "\n",
    "# Reshape the data for LSTM input\n",
    "def reshape_data(X, y, timesteps):\n",
    "    Xs, ys = [], []\n",
    "    for i in range(len(X) - timesteps):\n",
    "        Xs.append(X.iloc[i:i + timesteps].values)\n",
    "        ys.append(y[i + timesteps])\n",
    "    return np.array(Xs), np.array(ys)"
   ]
  },
  {
   "cell_type": "code",
   "execution_count": null,
   "metadata": {},
   "outputs": [],
   "source": []
  }
 ],
 "metadata": {
  "kernelspec": {
   "display_name": "Python 3",
   "language": "python",
   "name": "python3"
  },
  "language_info": {
   "codemirror_mode": {
    "name": "ipython",
    "version": 3
   },
   "file_extension": ".py",
   "mimetype": "text/x-python",
   "name": "python",
   "nbconvert_exporter": "python",
   "pygments_lexer": "ipython3",
   "version": "3.12.4"
  }
 },
 "nbformat": 4,
 "nbformat_minor": 2
}
